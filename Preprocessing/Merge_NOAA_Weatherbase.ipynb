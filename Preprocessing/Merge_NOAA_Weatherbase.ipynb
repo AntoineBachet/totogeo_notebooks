{
 "cells": [
  {
   "cell_type": "markdown",
   "metadata": {},
   "source": [
    "# Create Complete Database"
   ]
  },
  {
   "cell_type": "markdown",
   "metadata": {},
   "source": [
    "### Importing Libraries"
   ]
  },
  {
   "cell_type": "code",
   "execution_count": 2,
   "metadata": {},
   "outputs": [],
   "source": [
    "import pandas as pd\n",
    "import os"
   ]
  },
  {
   "cell_type": "markdown",
   "metadata": {},
   "source": [
    "### Variables in commun in WB and NOAA"
   ]
  },
  {
   "cell_type": "code",
   "execution_count": 45,
   "metadata": {},
   "outputs": [
    {
     "name": "stdout",
     "output_type": "stream",
     "text": [
      "/tf/Team 6 - ProjectData/Final Data/Merged Data/PRCP\n",
      "/tf/Team 6 - ProjectData/Final Data/Merged Data/EMXT\n",
      "/tf/Team 6 - ProjectData/Final Data/Merged Data/TAVG\n",
      "/tf/Team 6 - ProjectData/Final Data/Merged Data/EMNT\n",
      "/tf/Team 6 - ProjectData/Final Data/Merged Data/EMXP\n"
     ]
    }
   ],
   "source": [
    "directory = os.getcwd()\n",
    "variable_dict = {'EMNT':'LRT','EMXP':'MRR','EMXT':'HRT','TAVG':'AT','PRCP':'AP'}\n",
    "months = ['January','february','March','April','May','June','July','August','September','October','November','December']\n",
    "months_dict = {'January':'01','february':'02','March':'03','April':'04','May':'05','June':'06','July':'07','August':'08','September':'09','October':'10','November':'11','December':'12'}\n",
    "for j in variable_dict.keys():\n",
    "    if not os.path.exists(directory+'/Data/Final Data/Merged Data/'+j):\n",
    "        os.mkdir(directory+'/Data/Final Data/Merged Data/'+j)\n",
    "    for i in range(len(months)):\n",
    "        data_NOAA = pd.read_csv(directory+'/Data/'+j+'/'+months[i]+'_'+j+'_clean.csv')\n",
    "        data_NOAA.drop(columns = ['Unnamed: 0','FIRST_YEAR','LAST_YEAR','MONTH'],inplace = True)\n",
    "        data_NOAA.rename(index = str, columns= {j : 'VALUE'},inplace = True)\n",
    "        data_WB = pd.read_csv(directory+'/Data/WeatherBase data/Monthly data cleaned/'+months_dict[months[i]]+'-'+variable_dict[j]+' cleaned.csv')\n",
    "        data_WB = data_WB[['Station ID','Value','Years on Record']]\n",
    "        data_WB.rename(index=str, columns= {'Years on Record':'NB_VALUE','Station ID':'STATION','Value':'VALUE'},inplace = True)\n",
    "        data = pd.concat([data_NOAA, data_WB],ignore_index = True)\n",
    "        data.to_csv(directory+'/Data/Final Data/Merged Data/'+j+'/'+months_dict[months[i]]+'-'+j+'.csv',index = False)"
   ]
  },
  {
   "cell_type": "markdown",
   "metadata": {},
   "source": [
    "### NOAA"
   ]
  },
  {
   "cell_type": "code",
   "execution_count": 47,
   "metadata": {},
   "outputs": [],
   "source": [
    "variable_NOAA = ['DP01','DP10','DP1X','DSND','DT00','DT32','DX70','DX90']\n",
    "for var in variable_NOAA:\n",
    "    if not os.path.exists(directory+'/Data/Final Data/Merged Data/'+var):\n",
    "        os.mkdir(directory+'/Data/Final Data/Merged Data/'+var)\n",
    "    for month in months:\n",
    "        data = pd.read_csv(directory+'/Data/'+var+'/'+month+'_'+var+'_clean.csv')\n",
    "        data.drop(columns = ['Unnamed: 0','FIRST_YEAR','LAST_YEAR','MONTH'],inplace = True)\n",
    "        data_NOAA.rename(index = str, columns= {j : 'VALUE'},inplace = True)\n",
    "        data.to_csv(directory+'/Data/Final Data/Merged Data/'+var+'/'+months_dict[month]+'-'+var+'.csv',index = False)\n",
    "    "
   ]
  },
  {
   "cell_type": "markdown",
   "metadata": {},
   "source": [
    "### WeatherBase"
   ]
  },
  {
   "cell_type": "code",
   "execution_count": 52,
   "metadata": {
    "scrolled": true
   },
   "outputs": [],
   "source": [
    "variable_WB = ['ADP','ADS','AHT','ALD','ALT','ANDA32','ANDB0','ANDP','ANDS','ANRD','ARH','AS','AWS','LRR']\n",
    "for var in variable_WB:\n",
    "    if not os.path.exists(directory+'/Data/Final Data/Merged Data/'+var):\n",
    "        os.mkdir(directory+'/Data/Final Data/Merged Data/'+var)\n",
    "    for month in months:\n",
    "        data = pd.read_csv(directory+'/Data/WeatherBase data/Monthly data cleaned/'+months_dict[month]+'-'+var+' cleaned.csv')\n",
    "        data = data[['Station ID','Value','Years on Record']]\n",
    "        data.rename(index=str, columns= {'Years on Record':'NB_VALUE','Station ID':'STATION','Value':'VALUE'},inplace = True)\n",
    "        data.to_csv(directory+'/Data/Final Data/Merged Data/'+var+'/'+months_dict[month]+'-'+var+'.csv',index = False)"
   ]
  }
 ],
 "metadata": {
  "kernelspec": {
   "display_name": "Python 3",
   "language": "python",
   "name": "python3"
  },
  "language_info": {
   "codemirror_mode": {
    "name": "ipython",
    "version": 3
   },
   "file_extension": ".py",
   "mimetype": "text/x-python",
   "name": "python",
   "nbconvert_exporter": "python",
   "pygments_lexer": "ipython3",
   "version": "3.5.2"
  }
 },
 "nbformat": 4,
 "nbformat_minor": 2
}
