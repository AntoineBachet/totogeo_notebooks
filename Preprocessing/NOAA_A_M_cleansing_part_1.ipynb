{
 "cells": [
  {
   "cell_type": "markdown",
   "metadata": {},
   "source": [
    "# Cleaning each letter file "
   ]
  },
  {
   "cell_type": "code",
   "execution_count": 1,
   "metadata": {},
   "outputs": [],
   "source": [
    "import pandas as pd\n",
    "import pickle\n",
    "import numpy as np"
   ]
  },
  {
   "cell_type": "markdown",
   "metadata": {},
   "source": [
    "### Importing the dataset"
   ]
  },
  {
   "cell_type": "code",
   "execution_count": 46,
   "metadata": {},
   "outputs": [],
   "source": [
    "dataset = pd.read_excel('C://users/antoi/desktop//Gates_data//noaa_xlsx_A_M//ncei_noaa_M.xlsx')"
   ]
  },
  {
   "cell_type": "markdown",
   "metadata": {},
   "source": [
    "### Create column month and year"
   ]
  },
  {
   "cell_type": "code",
   "execution_count": 47,
   "metadata": {},
   "outputs": [],
   "source": [
    "def create_month(str):\n",
    "    return(str[-2:])\n",
    "\n",
    "def create_year(str):\n",
    "    return(str[0:4])\n",
    "\n",
    "dataset['MONTH'] = dataset['DATE'].apply(lambda x: create_month(x))\n",
    "dataset['YEAR'] = dataset['DATE'].apply(lambda x: create_year(x))"
   ]
  },
  {
   "cell_type": "markdown",
   "metadata": {},
   "source": [
    "### Creating variables means per month, first year and last year per station"
   ]
  },
  {
   "cell_type": "code",
   "execution_count": 48,
   "metadata": {},
   "outputs": [],
   "source": [
    "months = ['January','february','March','April','May','June','July','August','September','October','November','December']\n",
    "variables = np.array(dataset.keys())[6:-2]\n",
    "variables = [variable for variable in variables if not variable.endswith('ATTRIBUTES')]\n",
    "var_stat =['STATION','MONTH']+variables\n",
    "data = dataset[var_stat]\n",
    "df_mean = data.groupby(['STATION','MONTH'],as_index = False)[variables].mean().set_index('STATION')\n",
    "df_first_year = dataset[['STATION','YEAR','MONTH']].groupby('STATION')['YEAR'].min().to_frame('FIRST_YEAR')\n",
    "df_first_year = df_first_year.rename(columns = {'YEAR':'FIRST_YEAR'})\n",
    "df_last_year = dataset[['STATION','YEAR','MONTH']].groupby('STATION')['YEAR'].max().to_frame('LAST_YEAR')\n",
    "df_last_year = df_last_year.rename(columns = {'YEAR':'LAST_YEAR'})\n",
    "New_data = pd.concat(objs = [df_first_year,df_last_year],axis = 1)"
   ]
  },
  {
   "cell_type": "markdown",
   "metadata": {},
   "source": [
    "### Create CSV per month"
   ]
  },
  {
   "cell_type": "code",
   "execution_count": 49,
   "metadata": {},
   "outputs": [],
   "source": [
    "i=1\n",
    "for month in months:\n",
    "    if len(str(i)) == 1:\n",
    "        stations = list(df_mean[df_mean['MONTH']=='0'+str(i)].index)\n",
    "        New_data.loc[New_data.index.isin(stations)].join(df_mean[df_mean['MONTH']=='0'+str(i)]).to_csv('C://users/antoi/desktop//Gates_data//noaa_A//'+month+'M.csv')\n",
    "    else:\n",
    "        stations = list(df_mean[df_mean['MONTH']==str(i)].index)\n",
    "        New_data.loc[New_data.index.isin(stations)].join(df_mean[df_mean['MONTH']==str(i)]).to_csv('C://users/antoi/desktop//Gates_data//noaa_A//'+month+'M.csv')\n",
    "    i+=1"
   ]
  }
 ],
 "metadata": {
  "kernelspec": {
   "display_name": "Python 3",
   "language": "python",
   "name": "python3"
  },
  "language_info": {
   "codemirror_mode": {
    "name": "ipython",
    "version": 3
   },
   "file_extension": ".py",
   "mimetype": "text/x-python",
   "name": "python",
   "nbconvert_exporter": "python",
   "pygments_lexer": "ipython3",
   "version": "3.6.5"
  }
 },
 "nbformat": 4,
 "nbformat_minor": 2
}
