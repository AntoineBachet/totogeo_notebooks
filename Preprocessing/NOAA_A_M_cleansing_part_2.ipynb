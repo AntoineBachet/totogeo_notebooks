{
 "cells": [
  {
   "cell_type": "markdown",
   "metadata": {},
   "source": [
    "# Making one table per month"
   ]
  },
  {
   "cell_type": "code",
   "execution_count": 1,
   "metadata": {},
   "outputs": [],
   "source": [
    "import pandas as pd\n",
    "import numpy as np"
   ]
  },
  {
   "cell_type": "markdown",
   "metadata": {},
   "source": [
    "### Variables"
   ]
  },
  {
   "cell_type": "code",
   "execution_count": 2,
   "metadata": {},
   "outputs": [],
   "source": [
    "months = ['January','February','March','April','May','June','July','August','September','October','November','December']\n",
    "letters = ['A','B','C','D','E','F','G','I','J','K','L','M']\n",
    "path_letters = 'C://users/antoi/desktop//Gates_data//noaa_A//'\n",
    "path_A_M = 'C://users/antoi/desktop//Gates_data//noaa_A_M//'\n",
    "path_N_Z = 'C://users/antoi/desktop/Gates_data/NOAA_N-Z_month/'\n",
    "path_final = 'C://users/antoi/desktop//Gates_data/noaa_final/'"
   ]
  },
  {
   "cell_type": "markdown",
   "metadata": {},
   "source": [
    "### Concatenate for A to M"
   ]
  },
  {
   "cell_type": "code",
   "execution_count": 11,
   "metadata": {},
   "outputs": [],
   "source": [
    "for month in months:\n",
    "    frames = []\n",
    "    for letter in letters:\n",
    "        frames.append(pd.read_csv(path_letters+'January'+letter+'.csv'))\n",
    "    df = pd.concat(objs=frames,axis = 0)\n",
    "    df.to_csv(path_final+month+'.csv',index = False)       "
   ]
  },
  {
   "cell_type": "markdown",
   "metadata": {},
   "source": [
    "### Merge A-M and N-Z"
   ]
  },
  {
   "cell_type": "code",
   "execution_count": 29,
   "metadata": {},
   "outputs": [],
   "source": [
    "for month in months:\n",
    "    df_A_M = pd.read_csv(path_A_M+month+'.csv').drop(columns = ['MONTH'])\n",
    "    df_N_Z = pd.read_csv(path_N_Z+month+'.csv').iloc[:,1:]\n",
    "    df = pd.concat([df_A_M,df_N_Z])\n",
    "    df.to_csv(path_final+month+'.csv',index = False)\n",
    "    "
   ]
  },
  {
   "cell_type": "markdown",
   "metadata": {},
   "source": [
    "### Create one excel file with one sheet per month"
   ]
  },
  {
   "cell_type": "code",
   "execution_count": 31,
   "metadata": {},
   "outputs": [],
   "source": [
    "writer = pd.ExcelWriter('C:/users/antoi/desktop/Gates_data/noaa_A_M.xlsx')\n",
    "for month in months: \n",
    "    df = pd.read_csv(path_final+month+'.csv')\n",
    "    df.to_excel(writer,month,index=False)\n",
    "writer.save()\n",
    "    "
   ]
  }
 ],
 "metadata": {
  "kernelspec": {
   "display_name": "Python 3",
   "language": "python",
   "name": "python3"
  },
  "language_info": {
   "codemirror_mode": {
    "name": "ipython",
    "version": 3
   },
   "file_extension": ".py",
   "mimetype": "text/x-python",
   "name": "python",
   "nbconvert_exporter": "python",
   "pygments_lexer": "ipython3",
   "version": "3.6.5"
  }
 },
 "nbformat": 4,
 "nbformat_minor": 2
}
