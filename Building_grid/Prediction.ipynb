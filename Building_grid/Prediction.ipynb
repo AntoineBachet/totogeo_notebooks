{
 "cells": [
  {
   "cell_type": "code",
   "execution_count": 1,
   "metadata": {
    "ExecuteTime": {
     "end_time": "2019-04-19T14:06:54.237656Z",
     "start_time": "2019-04-19T14:06:53.381661Z"
    }
   },
   "outputs": [],
   "source": [
    "import pandas as pd\n",
    "from sklearn.ensemble import RandomForestRegressor\n",
    "import pickle\n",
    "import numpy as np"
   ]
  },
  {
   "cell_type": "code",
   "execution_count": 205,
   "metadata": {
    "ExecuteTime": {
     "end_time": "2019-04-19T16:05:14.919159Z",
     "start_time": "2019-04-19T16:05:14.913478Z"
    }
   },
   "outputs": [],
   "source": [
    "month = 12"
   ]
  },
  {
   "cell_type": "code",
   "execution_count": 206,
   "metadata": {
    "ExecuteTime": {
     "end_time": "2019-04-19T16:05:29.877735Z",
     "start_time": "2019-04-19T16:05:15.099347Z"
    }
   },
   "outputs": [],
   "source": [
    "data = pd.read_csv('/tf/Team 6 - Project/Data/Grid/full_grid.csv')"
   ]
  },
  {
   "cell_type": "code",
   "execution_count": 207,
   "metadata": {
    "ExecuteTime": {
     "end_time": "2019-04-19T16:05:30.028975Z",
     "start_time": "2019-04-19T16:05:29.881141Z"
    }
   },
   "outputs": [],
   "source": [
    "cols = ['Elevation','Latitude','Longitude',str(month)+'_SUNRISE',str(month)+'_SUNSET',str(month)+'_DAYLIGHT','BIOME_NUM','BIOME_CODE','BIOME_NAME']\n",
    "data = data[cols]"
   ]
  },
  {
   "cell_type": "code",
   "execution_count": 208,
   "metadata": {
    "ExecuteTime": {
     "end_time": "2019-04-19T16:05:31.235895Z",
     "start_time": "2019-04-19T16:05:30.031322Z"
    }
   },
   "outputs": [],
   "source": [
    "pred_data = pd.get_dummies(data,prefix = '',prefix_sep = '',columns = ['BIOME_NUM','BIOME_CODE'],drop_first = True,dummy_na = True).drop(columns= 'BIOME_NAME')"
   ]
  },
  {
   "cell_type": "code",
   "execution_count": 209,
   "metadata": {
    "ExecuteTime": {
     "end_time": "2019-04-19T16:05:31.245269Z",
     "start_time": "2019-04-19T16:05:31.240529Z"
    }
   },
   "outputs": [
    {
     "data": {
      "text/plain": [
       "(1543684, 76)"
      ]
     },
     "execution_count": 209,
     "metadata": {},
     "output_type": "execute_result"
    }
   ],
   "source": [
    "pred_data.shape"
   ]
  },
  {
   "cell_type": "code",
   "execution_count": 210,
   "metadata": {
    "ExecuteTime": {
     "end_time": "2019-04-19T16:05:31.267120Z",
     "start_time": "2019-04-19T16:05:31.248154Z"
    }
   },
   "outputs": [
    {
     "data": {
      "text/plain": [
       "Index(['Elevation', 'Latitude', 'Longitude', '12_SUNRISE', '12_SUNSET',\n",
       "       '12_DAYLIGHT', '2.0', '3.0', '4.0', '5.0', '6.0', '7.0', '8.0', '9.0',\n",
       "       '10.0', '11.0', '12.0', '13.0', '14.0', 'nan', 'AF02', 'AF07', 'AF08',\n",
       "       'AF09', 'AF10', 'AF12', 'AF13', 'AF14', 'AN11', 'AU01', 'AU02', 'AU04',\n",
       "       'AU07', 'AU08', 'AU10', 'AU11', 'AU12', 'AU13', 'IN01', 'IN02', 'IN03',\n",
       "       'IN04', 'IN05', 'IN13', 'IN14', 'NE03', 'NE04', 'NE05', 'NE06', 'NE08',\n",
       "       'NE11', 'NE12', 'NE13', 'NO01', 'NO02', 'NO03', 'NO04', 'NO07', 'NO08',\n",
       "       'NO09', 'NO10', 'NO12', 'NO13', 'NO14', 'OC01', 'PA01', 'PA04', 'PA05',\n",
       "       'PA06', 'PA08', 'PA09', 'PA10', 'PA11', 'PA12', 'PA13', 'nan'],\n",
       "      dtype='object')"
      ]
     },
     "execution_count": 210,
     "metadata": {},
     "output_type": "execute_result"
    }
   ],
   "source": [
    "pred_data.columns"
   ]
  },
  {
   "cell_type": "code",
   "execution_count": 211,
   "metadata": {
    "ExecuteTime": {
     "end_time": "2019-04-19T16:05:31.826309Z",
     "start_time": "2019-04-19T16:05:31.269129Z"
    }
   },
   "outputs": [],
   "source": [
    "pred_data.drop(columns = 'AF08',inplace = True)"
   ]
  },
  {
   "cell_type": "code",
   "execution_count": 212,
   "metadata": {
    "ExecuteTime": {
     "end_time": "2019-04-19T16:05:31.866435Z",
     "start_time": "2019-04-19T16:05:31.829541Z"
    }
   },
   "outputs": [],
   "source": [
    "pred_data.insert(loc=19,column = 'nan1',value = np.zeros(pred_data.shape[0]))\n",
    "pred_data.insert(loc=75,column = 'nan2',value = np.zeros(pred_data.shape[0]))\n",
    "pred_data.insert(loc=38,column = 'AU14',value = np.zeros(pred_data.shape[0]))\n",
    "pred_data.insert(loc=44,column = 'IN09',value = np.zeros(pred_data.shape[0]))\n",
    "pred_data.insert(loc=44,column = 'IN07',value = np.zeros(pred_data.shape[0]))\n",
    "pred_data.insert(loc=48,column = 'NE02',value = np.zeros(pred_data.shape[0]))\n",
    "pred_data.insert(loc=53,column = 'NE07',value = np.zeros(pred_data.shape[0]))"
   ]
  },
  {
   "cell_type": "code",
   "execution_count": 213,
   "metadata": {
    "ExecuteTime": {
     "end_time": "2019-04-19T16:05:34.866392Z",
     "start_time": "2019-04-19T16:05:31.868652Z"
    }
   },
   "outputs": [],
   "source": [
    "TAVG_model = pickle.load(open('/tf/Team 6 - Project/Model_creation/TAVG/models/'+str(month).zfill(2)+'-TAVG_model.p', 'rb'))\n",
    "PRCP_model = pickle.load(open('/tf/Team 6 - Project/Model_creation/PRCP/models/'+str(month).zfill(2)+'-PRCP_model.p', 'rb'))\n",
    "EMXP_model = pickle.load(open('/tf/Team 6 - Project/Model_creation/EMXP/models/'+str(month).zfill(2)+'-EMXP_model.p', 'rb'))\n",
    "DP01_model = pickle.load(open('/tf/Team 6 - Project/Model_creation/DP01/models/'+str(month).zfill(2)+'-DP01_model.p', 'rb'))\n",
    "DP10_model = pickle.load(open('/tf/Team 6 - Project/Model_creation/DP10/models/'+str(month).zfill(2)+'-DP10_model.p', 'rb'))\n",
    "DP1X_model = pickle.load(open('/tf/Team 6 - Project/Model_creation/DP1X/models/'+str(month).zfill(2)+'-DP1X_model.p', 'rb'))\n",
    "EMXT_model = pickle.load(open('/tf/Team 6 - Project/Model_creation/EMXT/models/'+str(month).zfill(2)+'-EMXT_model.p', 'rb'))\n",
    "EMNT_model = pickle.load(open('/tf/Team 6 - Project/Model_creation/EMNT/models/'+str(month).zfill(2)+'-EMNT_model.p', 'rb'))\n",
    "AHT_model = pickle.load(open('/tf/Team 6 - Project/Model_creation/AHT/models/'+str(month).zfill(2)+'-AHT_model.p', 'rb'))\n",
    "ALT_model = pickle.load(open('/tf/Team 6 - Project/Model_creation/ALT/models/'+str(month).zfill(2)+'-ALT_model.p', 'rb'))\n",
    "ANDP_model = pickle.load(open('/tf/Team 6 - Project/Model_creation/ANDP/models/'+str(month).zfill(2)+'-ANDP_model.p', 'rb'))\n",
    "DX90_model = pickle.load(open('/tf/Team 6 - Project/Model_creation/DX90/models/'+str(month).zfill(2)+'-DX90_model.p', 'rb'))\n",
    "DX70_model = pickle.load(open('/tf/Team 6 - Project/Model_creation/DX70/models/'+str(month).zfill(2)+'-DX70_model.p', 'rb'))\n",
    "DT32_model = pickle.load(open('/tf/Team 6 - Project/Model_creation/DT32/models/'+str(month).zfill(2)+'-DT32_model.p', 'rb'))\n",
    "DT00_model = pickle.load(open('/tf/Team 6 - Project/Model_creation/DT00/models/'+str(month).zfill(2)+'-DT00_model.p', 'rb'))\n",
    "DSND_model = pickle.load(open('/tf/Team 6 - Project/Model_creation/DSND/models/'+str(month).zfill(2)+'-DSND_model.p', 'rb'))\n",
    "ANDB0_model = pickle.load(open('/tf/Team 6 - Project/Model_creation/ANDB0/models/'+str(month).zfill(2)+'-ANDB0_model.p', 'rb'))\n",
    "AS_model = pickle.load(open('/tf/Team 6 - Project/Model_creation/AS/models/'+str(month).zfill(2)+'-AS_model.p', 'rb'))\n",
    "ANRD_model = pickle.load(open('/tf/Team 6 - Project/Model_creation/ANRD/models/'+str(month).zfill(2)+'-ANRD_model.p', 'rb'))\n",
    "ADP_model = pickle.load(open('/tf/Team 6 - Project/Model_creation/ADP/models/'+str(month).zfill(2)+'-ADP_model.p', 'rb'))\n",
    "ARH_model = pickle.load(open('/tf/Team 6 - Project/Model_creation/ARH/models/'+str(month).zfill(2)+'-ARH_model.p', 'rb'))\n",
    "ANDS_model = pickle.load(open('/tf/Team 6 - Project/Model_creation/ANDS/models/'+str(month).zfill(2)+'-ANDS_model.p', 'rb'))"
   ]
  },
  {
   "cell_type": "code",
   "execution_count": 214,
   "metadata": {
    "ExecuteTime": {
     "end_time": "2019-04-19T16:05:48.910343Z",
     "start_time": "2019-04-19T16:05:34.869267Z"
    },
    "scrolled": true
   },
   "outputs": [],
   "source": [
    "data['TAVG'] = TAVG_model.predict(pred_data)\n",
    "pred_data['TAVG'] = data['TAVG']\n",
    "data['PRCP'] = PRCP_model.predict(pred_data.drop(columns='TAVG'))\n",
    "pred_data['PRCP'] = data['PRCP']"
   ]
  },
  {
   "cell_type": "code",
   "execution_count": 215,
   "metadata": {
    "ExecuteTime": {
     "end_time": "2019-04-19T16:05:52.283639Z",
     "start_time": "2019-04-19T16:05:48.912521Z"
    }
   },
   "outputs": [],
   "source": [
    "data['EMXP'] = EMXP_model.predict(pred_data.drop(columns = []))\n",
    "pred_data['EMXP'] = data['EMXP']"
   ]
  },
  {
   "cell_type": "code",
   "execution_count": 216,
   "metadata": {
    "ExecuteTime": {
     "end_time": "2019-04-19T16:05:54.789343Z",
     "start_time": "2019-04-19T16:05:52.285886Z"
    }
   },
   "outputs": [],
   "source": [
    "data['DP01'] = DP01_model.predict(pred_data.drop(columns = ['EMXP']))\n",
    "pred_data['DP01'] = data['DP01']"
   ]
  },
  {
   "cell_type": "code",
   "execution_count": 218,
   "metadata": {
    "ExecuteTime": {
     "end_time": "2019-04-19T16:10:11.390545Z",
     "start_time": "2019-04-19T16:09:58.274588Z"
    }
   },
   "outputs": [],
   "source": [
    "data['DP10'] = DP10_model.predict(pred_data.drop(columns = ['EMXP','PRCP']))\n",
    "pred_data['DP10'] = data['DP10']"
   ]
  },
  {
   "cell_type": "code",
   "execution_count": 219,
   "metadata": {
    "ExecuteTime": {
     "end_time": "2019-04-19T16:10:14.112230Z",
     "start_time": "2019-04-19T16:10:11.393962Z"
    }
   },
   "outputs": [],
   "source": [
    "data['DP1X'] = DP1X_model.predict(pred_data.drop(columns = ['EMXP','TAVG']))\n",
    "pred_data['DP1X'] = data['DP1X']"
   ]
  },
  {
   "cell_type": "code",
   "execution_count": 220,
   "metadata": {
    "ExecuteTime": {
     "end_time": "2019-04-19T16:10:57.677010Z",
     "start_time": "2019-04-19T16:10:14.114664Z"
    }
   },
   "outputs": [],
   "source": [
    "data['EMXT'] = EMXT_model.predict(pred_data)\n",
    "pred_data['EMXT'] = data['EMXT']\n",
    "data['EMNT'] = EMNT_model.predict(pred_data)\n",
    "pred_data['EMNT'] = data['EMNT']\n",
    "data['AHT'] = AHT_model.predict(pred_data)\n",
    "pred_data['AHT'] = data['AHT']\n",
    "data['ALT'] = ALT_model.predict(pred_data)\n",
    "pred_data['ALT'] = data['ALT']\n",
    "data['ANDP'] = ANDP_model.predict(pred_data)\n",
    "pred_data['ANDP'] = data['ANDP']\n",
    "data['DX90'] = DX90_model.predict(pred_data)\n",
    "pred_data['DX90'] = data['DX90']\n",
    "data['DX70'] = DX70_model.predict(pred_data)\n",
    "pred_data['DX70'] = data['DX70']\n",
    "data['DT32'] = DT32_model.predict(pred_data)\n",
    "pred_data['DT32'] = data['DT32']\n",
    "data['DT00'] = DT00_model.predict(pred_data)\n",
    "pred_data['DT00'] = data['DT00']\n",
    "data['DSND'] = DSND_model.predict(pred_data)\n",
    "pred_data['DSND'] = data['DSND']\n",
    "data['ANDB0'] = ANDB0_model.predict(pred_data)\n",
    "pred_data['ANDB0'] = data['ANDB0']\n",
    "data['AS'] = AS_model.predict(pred_data)\n",
    "pred_data['AS'] = data['AS']\n",
    "data['ANRD'] = ANRD_model.predict(pred_data)\n",
    "pred_data['ANRD'] = data['ANRD']\n",
    "data['ADP'] = ADP_model.predict(pred_data)\n",
    "pred_data['ADP'] = data['ADP']\n",
    "data['ARH'] = ARH_model.predict(pred_data)\n",
    "pred_data['ARH'] = data['ARH']\n",
    "data['ANDS'] = ANDS_model.predict(pred_data)"
   ]
  },
  {
   "cell_type": "code",
   "execution_count": 221,
   "metadata": {
    "ExecuteTime": {
     "end_time": "2019-04-19T16:12:13.210125Z",
     "start_time": "2019-04-19T16:10:57.681617Z"
    }
   },
   "outputs": [],
   "source": [
    "data.to_csv('/tf/Team 6 - Project/Data/Grid/'+str(month).zfill(2)+'-full_grid.csv',index = False)"
   ]
  }
 ],
 "metadata": {
  "kernelspec": {
   "display_name": "Python 3",
   "language": "python",
   "name": "python3"
  },
  "language_info": {
   "codemirror_mode": {
    "name": "ipython",
    "version": 3
   },
   "file_extension": ".py",
   "mimetype": "text/x-python",
   "name": "python",
   "nbconvert_exporter": "python",
   "pygments_lexer": "ipython3",
   "version": "3.5.2"
  },
  "toc": {
   "base_numbering": 1,
   "nav_menu": {},
   "number_sections": true,
   "sideBar": true,
   "skip_h1_title": false,
   "title_cell": "Table of Contents",
   "title_sidebar": "Contents",
   "toc_cell": false,
   "toc_position": {},
   "toc_section_display": true,
   "toc_window_display": false
  }
 },
 "nbformat": 4,
 "nbformat_minor": 2
}
