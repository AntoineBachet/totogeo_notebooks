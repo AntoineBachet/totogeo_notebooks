{
 "cells": [
  {
   "cell_type": "code",
   "execution_count": 1,
   "metadata": {},
   "outputs": [],
   "source": [
    "import os\n",
    "import pandas as pd\n",
    "import numpy as np\n",
    "from tqdm import tqdm\n",
    "tqdm.pandas()"
   ]
  },
  {
   "cell_type": "code",
   "execution_count": 11,
   "metadata": {},
   "outputs": [],
   "source": [
    "dir_ = '/tf/Team 6 - Project/Data/Final Data/Merged Data'\n",
    "folders = os.listdir(dir_)\n",
    "folders.remove('.ipynb_checkpoints')\n",
    "folders\n",
    "\n",
    "panel = []\n",
    "for folder in folders:\n",
    "    file = pd.read_csv(dir_+'/'+folder+'/01-'+folder+'.csv')\n",
    "    panel.append((folder, len(file)))\n",
    "panel.sort(key = lambda x: x[1], reverse = True)"
   ]
  },
  {
   "cell_type": "code",
   "execution_count": 12,
   "metadata": {},
   "outputs": [
    {
     "data": {
      "text/plain": [
       "[('PRCP', 94173),\n",
       " ('EMXP', 61004),\n",
       " ('TAVG', 59287),\n",
       " ('DP01', 55966),\n",
       " ('DP10', 55966),\n",
       " ('DP1X', 55965),\n",
       " ('EMXT', 43680),\n",
       " ('EMNT', 42645),\n",
       " ('ALD', 41579),\n",
       " ('AHT', 30022),\n",
       " ('ALT', 29246),\n",
       " ('ANDP', 23727),\n",
       " ('DX70', 22075),\n",
       " ('DX90', 22075),\n",
       " ('DT32', 21603),\n",
       " ('DT00', 21603),\n",
       " ('DSND', 19736),\n",
       " ('ANDB0', 14742),\n",
       " ('AS', 13257),\n",
       " ('ANRD', 12357),\n",
       " ('ADP', 11989),\n",
       " ('ARH', 11669),\n",
       " ('AWS', 11251),\n",
       " ('ANDS', 7657),\n",
       " ('LRR', 2336),\n",
       " ('ANDA32', 822),\n",
       " ('ADS', 567)]"
      ]
     },
     "execution_count": 12,
     "metadata": {},
     "output_type": "execute_result"
    }
   ],
   "source": [
    "panel"
   ]
  },
  {
   "cell_type": "code",
   "execution_count": 3,
   "metadata": {},
   "outputs": [],
   "source": [
    "import itertools"
   ]
  },
  {
   "cell_type": "code",
   "execution_count": 8,
   "metadata": {},
   "outputs": [],
   "source": [
    "l = [0,1,2,3]"
   ]
  },
  {
   "cell_type": "code",
   "execution_count": 9,
   "metadata": {},
   "outputs": [],
   "source": [
    "from itertools import combinations, chain \n",
    "  \n",
    "def findsubsets(s, n): \n",
    "    return list(map(set, itertools.combinations(s, n))) "
   ]
  },
  {
   "cell_type": "code",
   "execution_count": 13,
   "metadata": {},
   "outputs": [
    {
     "data": {
      "text/plain": [
       "[{0, 1, 2}, {0, 1, 3}, {0, 2, 3}, {1, 2, 3}]"
      ]
     },
     "execution_count": 13,
     "metadata": {},
     "output_type": "execute_result"
    }
   ],
   "source": [
    "findsubsets(l,3)"
   ]
  }
 ],
 "metadata": {
  "kernelspec": {
   "display_name": "Python 3",
   "language": "python",
   "name": "python3"
  },
  "language_info": {
   "codemirror_mode": {
    "name": "ipython",
    "version": 3
   },
   "file_extension": ".py",
   "mimetype": "text/x-python",
   "name": "python",
   "nbconvert_exporter": "python",
   "pygments_lexer": "ipython3",
   "version": "3.5.2"
  }
 },
 "nbformat": 4,
 "nbformat_minor": 2
}
