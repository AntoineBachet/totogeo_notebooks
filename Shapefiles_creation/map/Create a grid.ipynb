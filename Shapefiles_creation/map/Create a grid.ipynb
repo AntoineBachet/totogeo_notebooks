{
 "cells": [
  {
   "cell_type": "code",
   "execution_count": 10,
   "metadata": {},
   "outputs": [],
   "source": [
    "import numpy as np\n",
    "import pandas as pd\n",
    "import os\n",
    "\n",
    "latitude = list(np.arange(-90, 90.1, 0.1))\n",
    "longitude = list(np.arange(-180, 180.01, 0.1))\n",
    "\n",
    "\n",
    "latitudes = []\n",
    "longitudes = []\n",
    "for i in latitude:\n",
    "    latitudes += [i]*len(longitude)\n",
    "    longitudes += longitude\n",
    "\n"
   ]
  },
  {
   "cell_type": "code",
   "execution_count": 11,
   "metadata": {},
   "outputs": [],
   "source": [
    "for i in range(100):\n",
    "    os.mkdir('./Partial_grids/Grid_'+str(i+1))\n",
    "    pd.DataFrame({\"Longitude\": longitudes[i*int(len(longitudes)/100):(i+1)*int(len(longitudes)/100)], \"Latitude\": latitudes[i*int(len(latitudes)/100):(i+1)*int(len(latitudes)/100)]}).to_csv('Partial_grids/Grid_'+str(i+1)+'/Grid_'+str(i+1)+'.csv', index = False)\n",
    "    \n",
    "    \n",
    "    \n",
    "    "
   ]
  },
  {
   "cell_type": "code",
   "execution_count": null,
   "metadata": {},
   "outputs": [],
   "source": []
  }
 ],
 "metadata": {
  "kernelspec": {
   "display_name": "Python 3",
   "language": "python",
   "name": "python3"
  },
  "language_info": {
   "codemirror_mode": {
    "name": "ipython",
    "version": 3
   },
   "file_extension": ".py",
   "mimetype": "text/x-python",
   "name": "python",
   "nbconvert_exporter": "python",
   "pygments_lexer": "ipython3",
   "version": "3.5.2"
  }
 },
 "nbformat": 4,
 "nbformat_minor": 2
}
